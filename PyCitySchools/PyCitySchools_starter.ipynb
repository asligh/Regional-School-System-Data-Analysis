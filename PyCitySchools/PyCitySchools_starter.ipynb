{
 "cells": [
  {
   "cell_type": "markdown",
   "metadata": {},
   "source": [
    "### Note\n",
    "* Instructions have been included for each segment. You do not have to follow them exactly, but they are included to help you think through the steps."
   ]
  },
  {
   "cell_type": "code",
   "execution_count": 1,
   "metadata": {},
   "outputs": [],
   "source": [
    "# Dependencies and Setup\n",
    "import pandas as pd\n",
    "\n",
    "# File to Load (Remember to Change These)\n",
    "school_data_to_load = \"Resources/schools_complete.csv\"\n",
    "student_data_to_load = \"Resources/students_complete.csv\"\n",
    "\n",
    "# Read School and Student Data File and store into Pandas DataFrames\n",
    "school_data = pd.read_csv(school_data_to_load)\n",
    "student_data = pd.read_csv(student_data_to_load)\n",
    "\n",
    "# Combine the data into a single dataset.  \n",
    "school_data_complete = pd.merge(student_data, school_data, how=\"left\", on=[\"school_name\", \"school_name\"])"
   ]
  },
  {
   "cell_type": "markdown",
   "metadata": {},
   "source": [
    "## District Summary\n",
    "\n",
    "* Calculate the total number of schools\n",
    "\n",
    "* Calculate the total number of students\n",
    "\n",
    "* Calculate the total budget\n",
    "\n",
    "* Calculate the average math score \n",
    "\n",
    "* Calculate the average reading score\n",
    "\n",
    "* Calculate the percentage of students with a passing math score (70 or greater)\n",
    "\n",
    "* Calculate the percentage of students with a passing reading score (70 or greater)\n",
    "\n",
    "* Calculate the percentage of students who passed math **and** reading (% Overall Passing)\n",
    "\n",
    "* Create a dataframe to hold the above results\n",
    "\n",
    "* Optional: give the displayed data cleaner formatting"
   ]
  },
  {
   "cell_type": "code",
   "execution_count": 2,
   "metadata": {},
   "outputs": [
    {
     "data": {
      "text/html": [
       "<div>\n",
       "<style scoped>\n",
       "    .dataframe tbody tr th:only-of-type {\n",
       "        vertical-align: middle;\n",
       "    }\n",
       "\n",
       "    .dataframe tbody tr th {\n",
       "        vertical-align: top;\n",
       "    }\n",
       "\n",
       "    .dataframe thead th {\n",
       "        text-align: right;\n",
       "    }\n",
       "</style>\n",
       "<table border=\"1\" class=\"dataframe\">\n",
       "  <thead>\n",
       "    <tr style=\"text-align: right;\">\n",
       "      <th></th>\n",
       "      <th>Total Schools</th>\n",
       "      <th>Total Students</th>\n",
       "      <th>Total Budget</th>\n",
       "      <th>Average Math Score</th>\n",
       "      <th>Average Reading Score</th>\n",
       "      <th>% Passing Math</th>\n",
       "      <th>% Passing Reading</th>\n",
       "      <th>% Overall Passing</th>\n",
       "    </tr>\n",
       "  </thead>\n",
       "  <tbody>\n",
       "    <tr>\n",
       "      <th>0</th>\n",
       "      <td>15</td>\n",
       "      <td>39,170</td>\n",
       "      <td>$24649428.00</td>\n",
       "      <td>78.985371</td>\n",
       "      <td>81.87784</td>\n",
       "      <td>74.980853</td>\n",
       "      <td>85.805463</td>\n",
       "      <td>65.172326</td>\n",
       "    </tr>\n",
       "  </tbody>\n",
       "</table>\n",
       "</div>"
      ],
      "text/plain": [
       "   Total Schools Total Students  Total Budget  Average Math Score  \\\n",
       "0             15         39,170  $24649428.00           78.985371   \n",
       "\n",
       "   Average Reading Score  % Passing Math  % Passing Reading  % Overall Passing  \n",
       "0               81.87784       74.980853          85.805463          65.172326  "
      ]
     },
     "execution_count": 2,
     "metadata": {},
     "output_type": "execute_result"
    }
   ],
   "source": [
    "#Calculate the total number of schools\n",
    "total_schools  = school_data_complete[\"School ID\"].value_counts().count()\n",
    "\n",
    "#Calculate the total number of students\n",
    "total_students = school_data_complete[\"Student ID\"].count()\n",
    "\n",
    "#Calculate the total budget\n",
    "total_budget = school_data[\"budget\"].sum()\n",
    "\n",
    "#Calculate the average math score\n",
    "avg_math_score = student_data[\"math_score\"].mean()\n",
    "\n",
    "#Calculate the average reading score\n",
    "avg_read_score = student_data[\"reading_score\"].mean()\n",
    "\n",
    "#Calculate the percentage of students with a passing math score (70 or greater)\n",
    "pct_std_pass_math = (student_data.loc[student_data[\"math_score\"] >= 70].count() / total_students)[1]\n",
    "\n",
    "#Calculate the percentage of students with a passing reading score (70 or greater)\n",
    "pct_std_pass_reading = (student_data.loc[student_data[\"reading_score\"] >= 70].count() / total_students)[1]\n",
    "\n",
    "#Calculate the percentage of students who passed math and reading (% Overall Passing)\n",
    "overall_pass = (student_data.loc[(student_data[\"math_score\"] >= 70) & \n",
    "                                (student_data[\"reading_score\"] >= 70)].count() / total_students)[1]\n",
    "\n",
    "#Create a dataframe to hold the above results\n",
    "ss_df = pd.DataFrame([{\"Total Schools\": total_schools,\n",
    "                       \"Total Students\": total_students,           \n",
    "                       \"Total Budget\": total_budget,\n",
    "                       \"Average Math Score\":  avg_math_score,\n",
    "                       \"Average Reading Score\":  avg_read_score,\n",
    "                       \"% Passing Math\":  pct_std_pass_math * 100,\n",
    "                       \"% Passing Reading\":  pct_std_pass_reading * 100,\n",
    "                       \"% Overall Passing\":  overall_pass * 100}])\n",
    "\n",
    "#Optional: give the displayed data cleaner formatting\n",
    "ss_df[\"Total Students\"] = ss_df[\"Total Students\"].map(\"{:,}\".format)\n",
    "ss_df[\"Total Budget\"] = ss_df[\"Total Budget\"].map(\"${:.2f}\".format)\n",
    "\n",
    "#Display report\n",
    "ss_df.head()\n"
   ]
  },
  {
   "cell_type": "markdown",
   "metadata": {},
   "source": [
    "\n",
    "## School Summary"
   ]
  },
  {
   "cell_type": "markdown",
   "metadata": {},
   "source": [
    "* Create an overview table that summarizes key metrics about each school, including:\n",
    "  * School Name\n",
    "  * School Type\n",
    "  * Total Students\n",
    "  * Total School Budget\n",
    "  * Per Student Budget\n",
    "  * Average Math Score\n",
    "  * Average Reading Score\n",
    "  * % Passing Math\n",
    "  * % Passing Reading\n",
    "  * % Overall Passing (The percentage of students that passed math **and** reading.)\n",
    "  \n",
    "* Create a dataframe to hold the above results"
   ]
  },
  {
   "cell_type": "code",
   "execution_count": 16,
   "metadata": {},
   "outputs": [
    {
     "data": {
      "text/plain": [
       "school_name            type    \n",
       "Bailey High School     District    [628.0]\n",
       "Cabrera High School    Charter     [582.0]\n",
       "Figueroa High School   District    [639.0]\n",
       "Ford High School       District    [644.0]\n",
       "Griffin High School    Charter     [625.0]\n",
       "Hernandez High School  District    [652.0]\n",
       "Holden High School     Charter     [581.0]\n",
       "Huang High School      District    [655.0]\n",
       "Johnson High School    District    [650.0]\n",
       "Pena High School       Charter     [609.0]\n",
       "Rodriguez High School  District    [637.0]\n",
       "Shelton High School    Charter     [600.0]\n",
       "Thomas High School     Charter     [638.0]\n",
       "Wilson High School     Charter     [578.0]\n",
       "Wright High School     Charter     [583.0]\n",
       "dtype: object"
      ]
     },
     "execution_count": 16,
     "metadata": {},
     "output_type": "execute_result"
    }
   ],
   "source": [
    "\n",
    "school_data_complete_copy_df = school_data_complete[[\"school_name\", \"type\",\"Student ID\", \"budget\",\"math_score\",\"reading_score\"]].copy()\n",
    "\n",
    "#grouped_school_data = school_data_complete_copy_df.groupby(['school_name','type','budget'])\n",
    "\n",
    "grouped_school_data = school_data_complete_copy_df.groupby(['school_name','type'])\n",
    "\n",
    "\n",
    "student_counts_df = grouped_school_data['Student ID'].count()\n",
    "\n",
    "school_type = grouped_school_data['type'].unique()\n",
    "\n",
    "total_school_budget = grouped_school_data[\"budget\"].unique()\n",
    "\n",
    "per_student_budget = grouped_school_data[\"budget\"].unique() / grouped_school_data['Student ID'].count()\n",
    "\n",
    "per_student_budget\n",
    "\n",
    "\n",
    "\n",
    "#type(grouped_school_data) #pandas.core.groupby.generic.DataFrameGroupBy\n",
    "\n",
    "#grouped_school_data.head()\n",
    "\n",
    "\n",
    "\n",
    "#district_series = grouped_school_data[\"type\"]\n",
    "\n",
    "#results_df = pd.DataFrame(grouped_school_data[\"Student ID\"].count())\n",
    "\n",
    "#total_school_budget = grouped_school_data[\"budget\"].sum()\n",
    "\n",
    "\n",
    "\n",
    "\n",
    "#type(results_df)\n",
    "\n",
    "\n",
    "\n",
    "#school_name_df  = pd.DataFrame(grouped_school_data[\"school_name\"])\n",
    "#school_type_df  = pd.DataFrame(grouped_school_data[\"type\"])\n",
    "#student_id_df   = pd.DataFrame(grouped_school_data[\"Student ID\"].count())\n",
    "\n",
    "\n",
    "#results_df = pd.concat([school_name_df,school_type_df,student_id_df], axis='columns', sort=False)\n",
    "                               \n",
    "#results_df    \n",
    "                               \n",
    "                               \n",
    "#results_df.append(pd.DataFrame(grouped_school_data[\"Student ID\"].count()))\n",
    "\n",
    "\n",
    "\n",
    "#results_df.rename(columns={'type': 'School Type'}, inplace=True)\n",
    "#results_df.rename(columns={'Student ID': 'Total Students'}, inplace=True)\n",
    "\n",
    "\n",
    "\n",
    "#results_df\n",
    "\n",
    "\n",
    "#group_school_data_complete_copy_df = school_data_copy_df.groupby(['school_name'])\n",
    "\n",
    "\n",
    "#results_df = pd.DataFrame(group_school_data_complete_copy_df[\"Student ID\"].count())\n",
    "\n",
    "\n",
    "#results_df.head()\n",
    "#group_school_data_complete_copy_df[\"budget\"].sum()\n"
   ]
  },
  {
   "cell_type": "markdown",
   "metadata": {},
   "source": [
    "## Top Performing Schools (By % Overall Passing)"
   ]
  },
  {
   "cell_type": "markdown",
   "metadata": {},
   "source": [
    "* Sort and display the top five performing schools by % overall passing."
   ]
  },
  {
   "cell_type": "code",
   "execution_count": null,
   "metadata": {
    "scrolled": true
   },
   "outputs": [],
   "source": []
  },
  {
   "cell_type": "markdown",
   "metadata": {},
   "source": [
    "## Bottom Performing Schools (By % Overall Passing)"
   ]
  },
  {
   "cell_type": "markdown",
   "metadata": {},
   "source": [
    "* Sort and display the five worst-performing schools by % overall passing."
   ]
  },
  {
   "cell_type": "code",
   "execution_count": null,
   "metadata": {},
   "outputs": [],
   "source": []
  },
  {
   "cell_type": "markdown",
   "metadata": {
    "collapsed": true
   },
   "source": [
    "## Math Scores by Grade"
   ]
  },
  {
   "cell_type": "markdown",
   "metadata": {},
   "source": [
    "* Create a table that lists the average Reading Score for students of each grade level (9th, 10th, 11th, 12th) at each school.\n",
    "\n",
    "  * Create a pandas series for each grade. Hint: use a conditional statement.\n",
    "  \n",
    "  * Group each series by school\n",
    "  \n",
    "  * Combine the series into a dataframe\n",
    "  \n",
    "  * Optional: give the displayed data cleaner formatting"
   ]
  },
  {
   "cell_type": "code",
   "execution_count": null,
   "metadata": {},
   "outputs": [],
   "source": []
  },
  {
   "cell_type": "markdown",
   "metadata": {},
   "source": [
    "## Reading Score by Grade "
   ]
  },
  {
   "cell_type": "markdown",
   "metadata": {},
   "source": [
    "* Perform the same operations as above for reading scores"
   ]
  },
  {
   "cell_type": "code",
   "execution_count": null,
   "metadata": {},
   "outputs": [],
   "source": []
  },
  {
   "cell_type": "markdown",
   "metadata": {},
   "source": [
    "## Scores by School Spending"
   ]
  },
  {
   "cell_type": "markdown",
   "metadata": {},
   "source": [
    "* Create a table that breaks down school performances based on average Spending Ranges (Per Student). Use 4 reasonable bins to group school spending. Include in the table each of the following:\n",
    "  * Average Math Score\n",
    "  * Average Reading Score\n",
    "  * % Passing Math\n",
    "  * % Passing Reading\n",
    "  * Overall Passing Rate (Average of the above two)"
   ]
  },
  {
   "cell_type": "code",
   "execution_count": null,
   "metadata": {},
   "outputs": [],
   "source": []
  },
  {
   "cell_type": "markdown",
   "metadata": {},
   "source": [
    "## Scores by School Size"
   ]
  },
  {
   "cell_type": "markdown",
   "metadata": {},
   "source": [
    "* Perform the same operations as above, based on school size."
   ]
  },
  {
   "cell_type": "code",
   "execution_count": null,
   "metadata": {
    "scrolled": true
   },
   "outputs": [],
   "source": []
  },
  {
   "cell_type": "markdown",
   "metadata": {},
   "source": [
    "## Scores by School Type"
   ]
  },
  {
   "cell_type": "markdown",
   "metadata": {},
   "source": [
    "* Perform the same operations as above, based on school type"
   ]
  },
  {
   "cell_type": "code",
   "execution_count": null,
   "metadata": {},
   "outputs": [],
   "source": []
  },
  {
   "cell_type": "code",
   "execution_count": null,
   "metadata": {},
   "outputs": [],
   "source": []
  }
 ],
 "metadata": {
  "anaconda-cloud": {},
  "kernel_info": {
   "name": "python3"
  },
  "kernelspec": {
   "display_name": "Python [conda env:PythonData] *",
   "language": "python",
   "name": "conda-env-PythonData-py"
  },
  "language_info": {
   "codemirror_mode": {
    "name": "ipython",
    "version": 3
   },
   "file_extension": ".py",
   "mimetype": "text/x-python",
   "name": "python",
   "nbconvert_exporter": "python",
   "pygments_lexer": "ipython3",
   "version": "3.8.11"
  },
  "latex_envs": {
   "LaTeX_envs_menu_present": true,
   "autoclose": false,
   "autocomplete": true,
   "bibliofile": "biblio.bib",
   "cite_by": "apalike",
   "current_citInitial": 1,
   "eqLabelWithNumbers": true,
   "eqNumInitial": 1,
   "hotkeys": {
    "equation": "Ctrl-E",
    "itemize": "Ctrl-I"
   },
   "labels_anchors": false,
   "latex_user_defs": false,
   "report_style_numbering": false,
   "user_envs_cfg": false
  },
  "nteract": {
   "version": "0.8.4"
  }
 },
 "nbformat": 4,
 "nbformat_minor": 1
}
